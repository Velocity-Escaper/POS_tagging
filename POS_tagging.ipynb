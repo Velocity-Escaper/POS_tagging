{
 "cells": [
  {
   "cell_type": "code",
   "execution_count": 1,
   "id": "3cc2f581-6f4a-49b9-9de4-e081fe4815f4",
   "metadata": {},
   "outputs": [],
   "source": [
    "import spacy"
   ]
  },
  {
   "cell_type": "code",
   "execution_count": 2,
   "id": "e9a83003-163d-4b30-8be4-35892488cd18",
   "metadata": {},
   "outputs": [],
   "source": [
    "nlp = spacy.load(\"en_core_web_sm\")"
   ]
  },
  {
   "cell_type": "code",
   "execution_count": 3,
   "id": "f67c86c1-7497-458c-acb6-19bea66bff4a",
   "metadata": {},
   "outputs": [],
   "source": [
    "doc = nlp(\"Hi, I'm Mohmed and I'm practicing how to do common natural language processing tasks! I hope you're having a good day!\")"
   ]
  },
  {
   "cell_type": "code",
   "execution_count": 5,
   "id": "279f7b47-97a6-434b-917b-d58a13834549",
   "metadata": {},
   "outputs": [
    {
     "name": "stdout",
     "output_type": "stream",
     "text": [
      "Hi PROPN\n",
      ", PUNCT\n",
      "I PRON\n",
      "'m AUX\n",
      "Mohmed PROPN\n",
      "and CCONJ\n",
      "I PRON\n",
      "'m AUX\n",
      "practicing VERB\n",
      "how SCONJ\n",
      "to PART\n",
      "do VERB\n",
      "common ADJ\n",
      "natural ADJ\n",
      "language NOUN\n",
      "processing NOUN\n",
      "tasks NOUN\n",
      "! PUNCT\n",
      "I PRON\n",
      "hope VERB\n",
      "you PRON\n",
      "'re AUX\n",
      "having VERB\n",
      "a DET\n",
      "good ADJ\n",
      "day NOUN\n",
      "! PUNCT\n"
     ]
    }
   ],
   "source": [
    "for token in doc:\n",
    "    print(token.text, token.pos_)"
   ]
  },
  {
   "cell_type": "code",
   "execution_count": null,
   "id": "3dcd5682-487f-41ba-b8cf-3f74b0d8e4fd",
   "metadata": {},
   "outputs": [],
   "source": []
  }
 ],
 "metadata": {
  "kernelspec": {
   "display_name": "Python 3 (ipykernel)",
   "language": "python",
   "name": "python3"
  },
  "language_info": {
   "codemirror_mode": {
    "name": "ipython",
    "version": 3
   },
   "file_extension": ".py",
   "mimetype": "text/x-python",
   "name": "python",
   "nbconvert_exporter": "python",
   "pygments_lexer": "ipython3",
   "version": "3.10.9"
  }
 },
 "nbformat": 4,
 "nbformat_minor": 5
}
